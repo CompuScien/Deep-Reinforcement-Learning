{
  "nbformat": 4,
  "nbformat_minor": 0,
  "metadata": {
    "colab": {
      "name": "Sarsa.ipynb",
      "provenance": [],
      "authorship_tag": "ABX9TyP1UeX/NxcozSNmlU7IdTj7"
    },
    "kernelspec": {
      "name": "python3",
      "display_name": "Python 3"
    },
    "accelerator": "GPU"
  },
  "cells": [
    {
      "cell_type": "code",
      "metadata": {
        "colab": {
          "base_uri": "https://localhost:8080/",
          "height": 433
        },
        "id": "_wW3I6S3DNtI",
        "outputId": "c3895b87-35ce-4e8b-e6e6-cf332e8def5e"
      },
      "source": [
        "# import torch\r\n",
        "import gym\r\n",
        "import numpy as np\r\n",
        "import matplotlib.pyplot as plt\r\n",
        "\r\n",
        "\r\n",
        "\r\n",
        "def maxAction(Q, state):    \r\n",
        "    values = np.array([Q[state,a] for a in range(2)])\r\n",
        "    action = np.argmax(values)\r\n",
        "    return action\r\n",
        "\r\n",
        "\r\n",
        "#discretize the spaces\r\n",
        "poleThetaSpace = np.linspace(-0.20943951, 0.20943951, 10)\r\n",
        "poleThetaVelSpace = np.linspace(-4, 4, 10)\r\n",
        "cartPosSpace = np.linspace(-2.4, 2.4, 10)\r\n",
        "cartVelSpace = np.linspace(-4, 4, 10)\r\n",
        "\r\n",
        "\r\n",
        "def getState(observation):\r\n",
        "    cartX, cartXdot, cartTheta, cartThetadot = observation\r\n",
        "    cartX = int(np.digitize(cartX, cartPosSpace))\r\n",
        "    cartXdot = int(np.digitize(cartXdot, cartVelSpace))\r\n",
        "    cartTheta = int(np.digitize(cartTheta, poleThetaSpace))\r\n",
        "    cartThetadot = int(np.digitize(cartThetadot, poleThetaVelSpace))\r\n",
        "\r\n",
        "    return (cartX, cartXdot, cartTheta, cartThetadot)\r\n",
        "\r\n",
        "\r\n",
        "\r\n",
        "if __name__ == '__main__':\r\n",
        "    env = gym.make('CartPole-v0')\r\n",
        "    # model hyperparameters\r\n",
        "    ALPHA = 0.1\r\n",
        "    GAMMA = 0.9    \r\n",
        "    EPS = 1.0\r\n",
        "\r\n",
        "    #construct state space\r\n",
        "    states = []\r\n",
        "    for i in range(len(cartPosSpace)+1):\r\n",
        "        for j in range(len(cartVelSpace)+1):\r\n",
        "            for k in range(len(poleThetaSpace)+1):\r\n",
        "                for l in range(len(poleThetaVelSpace)+1):\r\n",
        "                    states.append((i,j,k,l))\r\n",
        "\r\n",
        "    Q = {}\r\n",
        "    for s in states:\r\n",
        "        for a in range(2):\r\n",
        "            Q[s, a] = 0\r\n",
        "\r\n",
        "    numGames = 50000\r\n",
        "    totalRewards = np.zeros(numGames)\r\n",
        "    for i in range(numGames):\r\n",
        "        if i % 5000 == 0:\r\n",
        "            print('starting game', i)\r\n",
        "        # cart x position, cart velocity, pole theta, pole velocity\r\n",
        "        observation = env.reset()        \r\n",
        "        s = getState(observation)\r\n",
        "        rand = np.random.random()\r\n",
        "        a = maxAction(Q, s) if rand < (1-EPS) else env.action_space.sample()\r\n",
        "        done = False\r\n",
        "        epRewards = 0\r\n",
        "        while not done:\r\n",
        "            observation_, reward, done, info = env.step(a)   \r\n",
        "            s_ = getState(observation_)\r\n",
        "            rand = np.random.random()\r\n",
        "            a_ = maxAction(Q, s_) if rand < (1-EPS) else env.action_space.sample()\r\n",
        "            epRewards += reward\r\n",
        "            Q[s,a] = Q[s,a] + ALPHA*(reward + GAMMA*Q[s_,a_] - Q[s,a])\r\n",
        "            s, a = s_, a_            \r\n",
        "        EPS -= 2/(numGames) if EPS > 0 else 0\r\n",
        "        totalRewards[i] = epRewards\r\n",
        "\r\n",
        "    plt.plot(totalRewards, 'b--')\r\n",
        "    plt.show()    \r\n",
        "\r\n",
        "\r\n",
        "\r\n",
        "\r\n",
        "\r\n",
        "\r\n",
        "#Reference of code\r\n"
      ],
      "execution_count": 4,
      "outputs": [
        {
          "output_type": "stream",
          "text": [
            "starting game 0\n",
            "starting game 5000\n",
            "starting game 10000\n",
            "starting game 15000\n",
            "starting game 20000\n",
            "starting game 25000\n",
            "starting game 30000\n",
            "starting game 35000\n",
            "starting game 40000\n",
            "starting game 45000\n"
          ],
          "name": "stdout"
        },
        {
          "output_type": "display_data",
          "data": {
            "image/png": "[encoded data removed]",
            "text/plain": [
              "<Figure size 432x288 with 1 Axes>"
            ]
          },
          "metadata": {
            "tags": [],
            "needs_background": "light"
          }
        }
      ]
    }
  ]
}